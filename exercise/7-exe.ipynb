{
 "cells": [
  {
   "cell_type": "markdown",
   "id": "e394ada3",
   "metadata": {},
   "source": [
    "> Работа с классами и полями\n",
    "Создайте класс CustomerDataset, который будет хранить информацию о покупателях. Класс должен содержать следующие поля:\n",
    "\n",
    "customers_data (список словарей с данными о покупателях ),\n",
    "\n",
    "source (источник данных, например, CSV или API),\n",
    "\n",
    "last_update (время последнего обновления данных).\n",
    "\n",
    "Эти поля должны создаваться в методе __init__.\n",
    "\n",
    "Также добавьте метод display_info(), который будет выводить на экран информацию о наборе данных в формате: “Источник: {source}, Последнее обновление: {last_update}, Количество покупателей: {len(customers_data)}”.\n",
    "\n",
    "Цель: Изучить создание класса с полями."
   ]
  },
  {
   "cell_type": "code",
   "execution_count": null,
   "id": "9b62701b",
   "metadata": {},
   "outputs": [],
   "source": [
    "# %%writefile m7-1.py\n",
    "\n",
    "from datetime import datetime\n",
    "\n",
    "\n",
    "class CustomerDataset:\n",
    "    def __init__(self, customers_data, source):\n",
    "        self.last_update = datetime.now()\n",
    "        self.customers_data = customers_data\n",
    "        self.source = source\n",
    "        \n",
    "    def display_info(self):\n",
    "        print(f\"Источник: {self.source}, Последнее обновление: {self.last_update}, Количество покупателей: {len(self.customers_data)}\")"
   ]
  },
  {
   "cell_type": "markdown",
   "id": "6a4d59da",
   "metadata": {},
   "source": [
    "> Подстановка дочернего класса\n",
    "Напишите функцию process_customers(dataset: CustomerDataset), которая принимает объект типа CustomerDataset (или его наследников) и выводит информацию о количестве клиентов с помощью метода display_info(). Пример использования функции для разных типов объектов:\n",
    "\n",
    "ds = CustomerDataset(\"data.csv\")\n",
    "\n",
    "process_customers(ds)\n",
    "\n",
    "\n",
    "Цель: Показать принцип подстановки Лискова (Liskov substitution principle) — дочерний класс может быть использован вместо родительского без изменения логики."
   ]
  },
  {
   "cell_type": "code",
   "execution_count": 3,
   "id": "5a3c70a4",
   "metadata": {},
   "outputs": [
    {
     "name": "stdout",
     "output_type": "stream",
     "text": [
      "Writing m7-2.py\n"
     ]
    }
   ],
   "source": [
    "%%writefile m7-2.py\n",
    "from datetime import datetime\n",
    "\n",
    "class CustomerDataset:\n",
    "    def __init__(self, customers_data, source):\n",
    "        self.last_update = datetime.now()\n",
    "        self.customers_data = customers_data\n",
    "        self.source = source\n",
    "        \n",
    "    def display_info(self):\n",
    "        print(f\"Источник: {self.source}, Последнее обновление: {self.last_update}, Количество покупателей: {len(self.customers_data)}\")\n",
    "\n",
    "class CustomerDatasetDaughter(CustomerDataset):\n",
    "    def __init__(self, source,):\n",
    "        super().__init__([], source)\n",
    "\n",
    "ds = CustomerDatasetDaughter(\"data.csv\")\n",
    "\n",
    "def process_customers(dataset: CustomerDataset):\n",
    "    dataset.display_info()\n",
    "\n",
    "process_customers(ds)\n"
   ]
  },
  {
   "cell_type": "markdown",
   "id": "710d6079",
   "metadata": {},
   "source": [
    ">  Методы класса\n",
    "Дополните класс CustomerDataset методами:\n",
    "\n",
    "filter_customers(min_age) — фильтрует клиентов по минимальному возрасту (т.е. только тех, у кого \"age\" >= min_age),\n",
    "\n",
    "add_customer(name, age) — добавляет нового клиента,\n",
    "\n",
    "update_data(new_data) — заменяет данные клиентов на новые.\n",
    "\n",
    "Здесь new_data - это список словарей [{\"name\": \"My Name\", \"age\": 33}].\n",
    "\n",
    "Цель: научиться писать методы класса."
   ]
  },
  {
   "cell_type": "code",
   "execution_count": null,
   "id": "26f9d324",
   "metadata": {},
   "outputs": [
    {
     "name": "stdout",
     "output_type": "stream",
     "text": [
      "Overwriting m7-3.py\n"
     ]
    }
   ],
   "source": [
    "# %%writefile m7-3.py\n",
    "\n",
    "from datetime import datetime\n",
    "\n",
    "\n",
    "class CustomerDataset:\n",
    "    def __init__(self, customers_data, source):\n",
    "        self.last_update = datetime.now()\n",
    "        self.customers_data = customers_data\n",
    "        self.source = source\n",
    "        self.filter_costumer_data = []\n",
    "        \n",
    "    def display_info(self):\n",
    "        print(f\"Источник: {self.source}, Последнее обновление: {self.last_update}, Количество покупателей: {len(self.customers_data)}\")\n",
    "\n",
    "    def filter_customers(self, min_age):\n",
    "        self.filter_costumer_data = []\n",
    "        for i in self.customers_data:\n",
    "            if i.get(\"age\") != None and int(i.get(\"age\")) >= min_age:\n",
    "                self.filter_costumer_data.append(i)\n",
    "        return self.filter_costumer_data\n",
    "\n",
    "    def add_customer(self, name, age):\n",
    "        self.customers_data.append({\"name\": name , \"age\": age})\n",
    "        self.last_update = datetime.now()\n",
    "\n",
    "    def update_data(self, new_data):\n",
    "        self.customers_data = new_data\n",
    "        self.last_update = datetime.now()\n",
    "\n",
    "\n",
    "# a = [{'id': 1, 'name': 'John', 'age': 30}, {'id': 3, 'name': 'Bob', 'age': 35}]\n",
    "# c = CustomerDataset(a, \"rezd.csv\")\n",
    "# b = c.filter_customers(40)\n",
    "# print(b)\n",
    "# name = \"SDSDVDB\"\n",
    "# age = 15\n",
    "# for i in a:\n",
    "#     print(i[\"age\"])\n",
    "#     if i[\"age\"] > 30:\n",
    "#         c.append(i)\n",
    "#         c.append({\"id\": len(c)+1,\"name\": name , \"age\": age})\n",
    "#         print(c)\n",
    "\n"
   ]
  },
  {
   "cell_type": "markdown",
   "id": "ecaed151",
   "metadata": {},
   "source": [
    ">  Наследование\n",
    "Создайте дочерний класс PremiumCustomerDataset, который будет хранить информацию только о премиальных клиентах.\n",
    "\n",
    "Данные в этом датасете будут уже иметь вид [{\"name\": \"Misha\", \"age\": 33, \"membership\": \"platinum\"}]. \n",
    "\n",
    "Обратите внимание, добавился ключ \"membership\" - уровень членства для каждого клиента. Ключ может иногда отсутствовать.\n",
    "\n",
    "В этом классе добавьте поле:\n",
    "\n",
    "membership_level (требуемый уровень членства: Bronze, Silver, Gold),\n",
    "И метод:\n",
    "\n",
    "filter_by_membership(level) — фильтрует клиентов по уровню членства, равному \n",
    "\n",
    "level (произвольному, не обязательно membership_level).\n",
    "\n",
    "Перепишите метод display_info(), чтобы он также выводил информацию о требуемом уровне членства (используйте membership_level). Он должен вывести отдельной строкой сообщение вида \"Уровень членства: platinum\" (без кавычек).\n",
    "\n",
    "Цель: Понять принцип наследования и расширение функциональности.\n",
    "\n",
    "В файл решения включите оба класса: CustomerDataset и наследующийся от него PremiumDataset."
   ]
  },
  {
   "cell_type": "code",
   "execution_count": null,
   "id": "1dbdc0a1",
   "metadata": {},
   "outputs": [
    {
     "name": "stdout",
     "output_type": "stream",
     "text": [
      "Overwriting m7-4.py\n"
     ]
    }
   ],
   "source": [
    "# %%writefile m7-4.py\n",
    "\n",
    "from datetime import datetime\n",
    "\n",
    "\n",
    "class CustomerDataset:\n",
    "    def __init__(self, customers_data, source):\n",
    "        self.last_update = datetime.now()\n",
    "        self.customers_data = customers_data\n",
    "        self.source = source\n",
    "        self.filter_costumer_data = []\n",
    "        \n",
    "    def display_info(self):\n",
    "        print(f\"Источник: {self.source}, Последнее обновление: {self.last_update}, Количество покупателей: {len(self.customers_data)}\")\n",
    "\n",
    "    def filter_customers(self, min_age):\n",
    "        self.filter_costumer_data = []\n",
    "        for i in self.customers_data:\n",
    "            if i.get(\"age\") != None and int(i.get(\"age\")) >= min_age:\n",
    "                self.filter_costumer_data.append(i)\n",
    "        return self.filter_costumer_data\n",
    "\n",
    "    def add_customer(self, name, age):\n",
    "        self.customers_data.append({\"name\": name , \"age\": age})\n",
    "        self.last_update = datetime.now()\n",
    "\n",
    "    def update_data(self, new_data):\n",
    "        self.customers_data = new_data\n",
    "        self.last_update = datetime.now()\n",
    "\n",
    "class PremiumCustomerDataset(CustomerDataset):\n",
    "    def __init__(self, customers_data, source, membership_level):\n",
    "        super().__init__(customers_data, source)    \n",
    "        self.membership_level = membership_level\n",
    "        self.filter_by_membership_customers = []\n",
    "\n",
    "    def display_info(self):\n",
    "        super().display_info()\n",
    "        print(f\"Уровень членства: {self.membership_level}\")\n",
    "    \n",
    "    def filter_by_membership(self, level):\n",
    "        self.filter_by_membership_customers = [\n",
    "            x for x in self.customers_data if x.get(\"membership\" ) == level\n",
    "        ]\n",
    "        return self.filter_by_membership_customers\n",
    "\n",
    "    "
   ]
  },
  {
   "cell_type": "markdown",
   "id": "a47cd4a1",
   "metadata": {},
   "source": [
    "> Магические методы в классе\n",
    "Вам нужно дополнить класс CustomerDataset несколькими магическими методами, которые улучшат взаимодействие с объектами вашего класса.\n",
    "\n",
    "1. Реализуйте метод __contains__(self, customer_name), который будет проверять, существует ли клиент с данным именем в наборе данных. Он должен возвращать True, если клиент с таким именем есть, и False, если нет. Пример использования: 'John' in dataset\n",
    "\n",
    "2. Реализуйте метод \"__repr__(self)\", который будет возвращать строковое представление объекта для удобства отладки. Строка должна содержать информацию о наборе данных, например, количество клиентов и источник данных (например, путь к CSV файлу). Пример: CustomerDataset(100 customers from 'data.csv')\n",
    "\n",
    "3. Реализуйте метод \"__len__(self)\", который будет возвращать количество клиентов в наборе данных."
   ]
  },
  {
   "cell_type": "code",
   "execution_count": 49,
   "id": "73f31d6c",
   "metadata": {},
   "outputs": [
    {
     "name": "stdout",
     "output_type": "stream",
     "text": [
      "Overwriting m7-5.py\n"
     ]
    }
   ],
   "source": [
    "%%writefile m7-5.py\n",
    "\n",
    "from datetime import datetime\n",
    "\n",
    "\n",
    "class CustomerDataset:\n",
    "    def __init__(self, customers_data, source):\n",
    "        self.last_update = datetime.now()\n",
    "        self.customers_data = customers_data\n",
    "        self.source = source\n",
    "        self.filter_costumer_data = []\n",
    "        \n",
    "    def display_info(self):\n",
    "        print(f\"Источник: {self.source}, Последнее обновление: {self.last_update}, Количество покупателей: {len(self.customers_data)}\")\n",
    "\n",
    "    def filter_customers(self, min_age):\n",
    "        self.filter_costumer_data = []\n",
    "        for i in self.customers_data:\n",
    "            if i.get(\"age\") != None and int(i.get(\"age\")) >= min_age:\n",
    "                self.filter_costumer_data.append(i)\n",
    "        return self.filter_costumer_data\n",
    "\n",
    "    def add_customer(self, name, age):\n",
    "        self.customers_data.append({\"name\": name , \"age\": age})\n",
    "        self.last_update = datetime.now()\n",
    "\n",
    "    def update_data(self, new_data):\n",
    "        self.customers_data = new_data\n",
    "        self.last_update = datetime.now()\n",
    "\n",
    "\n",
    "    def __contains__(self, customer_name):\n",
    "        for i in self.customers_data:\n",
    "            if customer_name in i['name']:\n",
    "                return True\n",
    "        return False\n",
    "    \n",
    "    def __repr__(self):\n",
    "        return f\"CustomerDataset({len(self.customers_data)} customers from '{self.source}')\"\n",
    "    \n",
    "    def __len__(self):\n",
    "        return len(self.customers_data)\n",
    "    \n",
    "# a = [{'id': 1, 'name': 'John', 'age': 30}, {'id': 3, 'name': 'Bob', 'age': 35}]\n",
    "# print('Bob' in a[1]['name'])\n"
   ]
  },
  {
   "cell_type": "markdown",
   "id": "7461ffee",
   "metadata": {},
   "source": []
  }
 ],
 "metadata": {
  "kernelspec": {
   "display_name": ".venv",
   "language": "python",
   "name": "python3"
  },
  "language_info": {
   "codemirror_mode": {
    "name": "ipython",
    "version": 3
   },
   "file_extension": ".py",
   "mimetype": "text/x-python",
   "name": "python",
   "nbconvert_exporter": "python",
   "pygments_lexer": "ipython3",
   "version": "3.13.7"
  }
 },
 "nbformat": 4,
 "nbformat_minor": 5
}

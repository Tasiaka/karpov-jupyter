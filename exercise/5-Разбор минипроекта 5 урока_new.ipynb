{
 "cells": [
  {
   "cell_type": "code",
   "execution_count": null,
   "id": "52dfb50a-4eb7-43de-a958-53cf12aae69e",
   "metadata": {},
   "outputs": [],
   "source": [
    "import pandas as pd\n",
    "import numpy as np"
   ]
  },
  {
   "cell_type": "markdown",
   "id": "0a933dc1-ff3d-447f-a161-4d9c3eaae57c",
   "metadata": {},
   "source": [
    "Сначала для работы загрузим csv файл. "
   ]
  },
  {
   "cell_type": "code",
   "execution_count": 3,
   "id": "e3d3429b-0b01-47a1-b28e-1c022438568d",
   "metadata": {},
   "outputs": [],
   "source": [
    "playstore = pd.read_csv(\"playstore.csv\", index_col=0)"
   ]
  },
  {
   "cell_type": "code",
   "execution_count": 4,
   "id": "ce62d6f5",
   "metadata": {},
   "outputs": [
    {
     "data": {
      "text/html": [
       "<div>\n",
       "<style scoped>\n",
       "    .dataframe tbody tr th:only-of-type {\n",
       "        vertical-align: middle;\n",
       "    }\n",
       "\n",
       "    .dataframe tbody tr th {\n",
       "        vertical-align: top;\n",
       "    }\n",
       "\n",
       "    .dataframe thead th {\n",
       "        text-align: right;\n",
       "    }\n",
       "</style>\n",
       "<table border=\"1\" class=\"dataframe\">\n",
       "  <thead>\n",
       "    <tr style=\"text-align: right;\">\n",
       "      <th></th>\n",
       "      <th>App</th>\n",
       "      <th>Category</th>\n",
       "      <th>Rating</th>\n",
       "      <th>Reviews</th>\n",
       "      <th>Size</th>\n",
       "      <th>Installs</th>\n",
       "      <th>Type</th>\n",
       "      <th>Price</th>\n",
       "      <th>Content Rating</th>\n",
       "      <th>Genres</th>\n",
       "      <th>Last Updated</th>\n",
       "      <th>Current Ver</th>\n",
       "      <th>Android Ver</th>\n",
       "    </tr>\n",
       "  </thead>\n",
       "  <tbody>\n",
       "    <tr>\n",
       "      <th>0</th>\n",
       "      <td>Photo Editor &amp; Candy Camera &amp; Grid &amp; ScrapBook</td>\n",
       "      <td>ART_AND_DESIGN</td>\n",
       "      <td>4.1</td>\n",
       "      <td>159</td>\n",
       "      <td>19M</td>\n",
       "      <td>10,000+</td>\n",
       "      <td>Free</td>\n",
       "      <td>0</td>\n",
       "      <td>Everyone</td>\n",
       "      <td>Art &amp; Design</td>\n",
       "      <td>January 7, 2018</td>\n",
       "      <td>1.0.0</td>\n",
       "      <td>4.0.3 and up</td>\n",
       "    </tr>\n",
       "    <tr>\n",
       "      <th>1</th>\n",
       "      <td>Coloring book moana</td>\n",
       "      <td>ART_AND_DESIGN</td>\n",
       "      <td>3.9</td>\n",
       "      <td>967</td>\n",
       "      <td>14M</td>\n",
       "      <td>500,000+</td>\n",
       "      <td>Free</td>\n",
       "      <td>0</td>\n",
       "      <td>Everyone</td>\n",
       "      <td>Art &amp; Design;Pretend Play</td>\n",
       "      <td>January 15, 2018</td>\n",
       "      <td>2.0.0</td>\n",
       "      <td>4.0.3 and up</td>\n",
       "    </tr>\n",
       "    <tr>\n",
       "      <th>2</th>\n",
       "      <td>U Launcher Lite – FREE Live Cool Themes, Hide ...</td>\n",
       "      <td>ART_AND_DESIGN</td>\n",
       "      <td>4.7</td>\n",
       "      <td>87510</td>\n",
       "      <td>8.7M</td>\n",
       "      <td>5,000,000+</td>\n",
       "      <td>Free</td>\n",
       "      <td>0</td>\n",
       "      <td>Everyone</td>\n",
       "      <td>Art &amp; Design</td>\n",
       "      <td>August 1, 2018</td>\n",
       "      <td>1.2.4</td>\n",
       "      <td>4.0.3 and up</td>\n",
       "    </tr>\n",
       "    <tr>\n",
       "      <th>3</th>\n",
       "      <td>Sketch - Draw &amp; Paint</td>\n",
       "      <td>ART_AND_DESIGN</td>\n",
       "      <td>4.5</td>\n",
       "      <td>215644</td>\n",
       "      <td>25M</td>\n",
       "      <td>50,000,000+</td>\n",
       "      <td>Free</td>\n",
       "      <td>0</td>\n",
       "      <td>Teen</td>\n",
       "      <td>Art &amp; Design</td>\n",
       "      <td>June 8, 2018</td>\n",
       "      <td>Varies with device</td>\n",
       "      <td>4.2 and up</td>\n",
       "    </tr>\n",
       "    <tr>\n",
       "      <th>4</th>\n",
       "      <td>Pixel Draw - Number Art Coloring Book</td>\n",
       "      <td>ART_AND_DESIGN</td>\n",
       "      <td>4.3</td>\n",
       "      <td>967</td>\n",
       "      <td>2.8M</td>\n",
       "      <td>100,000+</td>\n",
       "      <td>Free</td>\n",
       "      <td>0</td>\n",
       "      <td>Everyone</td>\n",
       "      <td>Art &amp; Design;Creativity</td>\n",
       "      <td>June 20, 2018</td>\n",
       "      <td>1.1</td>\n",
       "      <td>4.4 and up</td>\n",
       "    </tr>\n",
       "  </tbody>\n",
       "</table>\n",
       "</div>"
      ],
      "text/plain": [
       "                                                 App        Category  Rating  \\\n",
       "0     Photo Editor & Candy Camera & Grid & ScrapBook  ART_AND_DESIGN     4.1   \n",
       "1                                Coloring book moana  ART_AND_DESIGN     3.9   \n",
       "2  U Launcher Lite – FREE Live Cool Themes, Hide ...  ART_AND_DESIGN     4.7   \n",
       "3                              Sketch - Draw & Paint  ART_AND_DESIGN     4.5   \n",
       "4              Pixel Draw - Number Art Coloring Book  ART_AND_DESIGN     4.3   \n",
       "\n",
       "   Reviews  Size     Installs  Type Price Content Rating  \\\n",
       "0      159   19M      10,000+  Free     0       Everyone   \n",
       "1      967   14M     500,000+  Free     0       Everyone   \n",
       "2    87510  8.7M   5,000,000+  Free     0       Everyone   \n",
       "3   215644   25M  50,000,000+  Free     0           Teen   \n",
       "4      967  2.8M     100,000+  Free     0       Everyone   \n",
       "\n",
       "                      Genres      Last Updated         Current Ver  \\\n",
       "0               Art & Design   January 7, 2018               1.0.0   \n",
       "1  Art & Design;Pretend Play  January 15, 2018               2.0.0   \n",
       "2               Art & Design    August 1, 2018               1.2.4   \n",
       "3               Art & Design      June 8, 2018  Varies with device   \n",
       "4    Art & Design;Creativity     June 20, 2018                 1.1   \n",
       "\n",
       "    Android Ver  \n",
       "0  4.0.3 and up  \n",
       "1  4.0.3 and up  \n",
       "2  4.0.3 and up  \n",
       "3    4.2 and up  \n",
       "4    4.4 and up  "
      ]
     },
     "execution_count": 4,
     "metadata": {},
     "output_type": "execute_result"
    }
   ],
   "source": [
    "playstore.head()"
   ]
  },
  {
   "cell_type": "markdown",
   "id": "7305a174-a3bb-486d-a717-51e9cd07e1f3",
   "metadata": {},
   "source": [
    "## Задание 1\n",
    "Сохраните в переменные data_head и data_tail первые и последние 3 строки из датафрейма соответственно. Датафрейм уже находится в переменной playstore."
   ]
  },
  {
   "cell_type": "code",
   "execution_count": 5,
   "id": "a1ccbe14",
   "metadata": {},
   "outputs": [],
   "source": [
    "playstore = pd.read_csv(\"playstore.csv\", index_col=0)"
   ]
  },
  {
   "cell_type": "code",
   "execution_count": 6,
   "id": "2d4cd5c1-f238-4b04-a3ab-70a898d6f9fc",
   "metadata": {},
   "outputs": [],
   "source": [
    "data_head = playstore.head(3)\n",
    "data_tail = playstore.tail(3)"
   ]
  },
  {
   "cell_type": "markdown",
   "id": "c35cecbd",
   "metadata": {},
   "source": [
    "## Задание 2\n",
    "\n",
    "Сохраните в переменные n_col и n_row количество столбцов и строк в датафрейме соответственно."
   ]
  },
  {
   "cell_type": "code",
   "execution_count": 7,
   "id": "c6463514",
   "metadata": {},
   "outputs": [],
   "source": [
    "n_row, n_col = playstore.shape"
   ]
  },
  {
   "cell_type": "markdown",
   "id": "47bef690-aae8-4c12-81c8-1148096f44a0",
   "metadata": {},
   "source": [
    "## Задание 3\n",
    "Давайте теперь посмотрим, какое количество уникальных приложений есть у нас в наших данных (колонка App).\n",
    "\n",
    "В качестве ответа введите полученное число."
   ]
  },
  {
   "cell_type": "code",
   "execution_count": 8,
   "id": "f6fcb076-219c-4abc-bf43-26c9e9f46179",
   "metadata": {},
   "outputs": [
    {
     "data": {
      "text/plain": [
       "9659"
      ]
     },
     "execution_count": 8,
     "metadata": {},
     "output_type": "execute_result"
    }
   ],
   "source": [
    "playstore.App.nunique()"
   ]
  },
  {
   "cell_type": "markdown",
   "id": "fbf37cac-cc7a-4368-8b75-f81bfa6c116e",
   "metadata": {},
   "source": [
    "## Задание 4\n",
    "Давайте посчитаем число пропущенных значений в колонке с рейтингом приложений. Сохраните в переменную rating_missing количество пропущенных значений в колонке Rating. "
   ]
  },
  {
   "cell_type": "code",
   "execution_count": 9,
   "id": "50dfb2b0",
   "metadata": {},
   "outputs": [],
   "source": [
    "rating_missing = playstore.Rating.isnull().sum()"
   ]
  },
  {
   "cell_type": "code",
   "execution_count": 10,
   "id": "ee4229c9",
   "metadata": {},
   "outputs": [
    {
     "data": {
      "text/plain": [
       "np.int64(1474)"
      ]
     },
     "execution_count": 10,
     "metadata": {},
     "output_type": "execute_result"
    }
   ],
   "source": [
    "rating_missing"
   ]
  },
  {
   "cell_type": "markdown",
   "id": "77af70f5",
   "metadata": {},
   "source": [
    "## Задание 5\n",
    "Собрать датафрейм, который будет включать в себя: первые три строки исходного датафрейма, строки 6-8 (включительно), строки 16-19 (включительно) и колонки: App, Size, Genres, Current Ver в соответствующем порядке.В качестве ответа загрузите полученный датафрейм в формате csv. При сохранении финального датафрейма, колонка с индексами должна остаться."
   ]
  },
  {
   "cell_type": "code",
   "execution_count": 11,
   "id": "77ffbbbd",
   "metadata": {},
   "outputs": [],
   "source": [
    "# отберем нужные строки датафрейма\n",
    "\n",
    "temp = pd.concat([playstore[:3], playstore[5:8], playstore[15:19]])"
   ]
  },
  {
   "cell_type": "code",
   "execution_count": 12,
   "id": "c77099a1",
   "metadata": {},
   "outputs": [],
   "source": [
    "# отберем нужные колонки\n",
    "\n",
    "result = temp[[\"App\", \"Size\", \"Genres\", \"Current Ver\"]]"
   ]
  },
  {
   "cell_type": "code",
   "execution_count": 13,
   "id": "e4b66d71",
   "metadata": {},
   "outputs": [
    {
     "data": {
      "text/html": [
       "<div>\n",
       "<style scoped>\n",
       "    .dataframe tbody tr th:only-of-type {\n",
       "        vertical-align: middle;\n",
       "    }\n",
       "\n",
       "    .dataframe tbody tr th {\n",
       "        vertical-align: top;\n",
       "    }\n",
       "\n",
       "    .dataframe thead th {\n",
       "        text-align: right;\n",
       "    }\n",
       "</style>\n",
       "<table border=\"1\" class=\"dataframe\">\n",
       "  <thead>\n",
       "    <tr style=\"text-align: right;\">\n",
       "      <th></th>\n",
       "      <th>App</th>\n",
       "      <th>Size</th>\n",
       "      <th>Genres</th>\n",
       "      <th>Current Ver</th>\n",
       "    </tr>\n",
       "  </thead>\n",
       "  <tbody>\n",
       "    <tr>\n",
       "      <th>0</th>\n",
       "      <td>Photo Editor &amp; Candy Camera &amp; Grid &amp; ScrapBook</td>\n",
       "      <td>19M</td>\n",
       "      <td>Art &amp; Design</td>\n",
       "      <td>1.0.0</td>\n",
       "    </tr>\n",
       "    <tr>\n",
       "      <th>1</th>\n",
       "      <td>Coloring book moana</td>\n",
       "      <td>14M</td>\n",
       "      <td>Art &amp; Design;Pretend Play</td>\n",
       "      <td>2.0.0</td>\n",
       "    </tr>\n",
       "    <tr>\n",
       "      <th>2</th>\n",
       "      <td>U Launcher Lite – FREE Live Cool Themes, Hide ...</td>\n",
       "      <td>8.7M</td>\n",
       "      <td>Art &amp; Design</td>\n",
       "      <td>1.2.4</td>\n",
       "    </tr>\n",
       "    <tr>\n",
       "      <th>5</th>\n",
       "      <td>Paper flowers instructions</td>\n",
       "      <td>5.6M</td>\n",
       "      <td>Art &amp; Design</td>\n",
       "      <td>1.0</td>\n",
       "    </tr>\n",
       "    <tr>\n",
       "      <th>6</th>\n",
       "      <td>Smoke Effect Photo Maker - Smoke Editor</td>\n",
       "      <td>19M</td>\n",
       "      <td>Art &amp; Design</td>\n",
       "      <td>1.1</td>\n",
       "    </tr>\n",
       "    <tr>\n",
       "      <th>7</th>\n",
       "      <td>Infinite Painter</td>\n",
       "      <td>29M</td>\n",
       "      <td>Art &amp; Design</td>\n",
       "      <td>6.1.61.1</td>\n",
       "    </tr>\n",
       "    <tr>\n",
       "      <th>15</th>\n",
       "      <td>Learn To Draw Kawaii Characters</td>\n",
       "      <td>2.7M</td>\n",
       "      <td>Art &amp; Design</td>\n",
       "      <td>NaN</td>\n",
       "    </tr>\n",
       "    <tr>\n",
       "      <th>16</th>\n",
       "      <td>Photo Designer - Write your name with shapes</td>\n",
       "      <td>5.5M</td>\n",
       "      <td>Art &amp; Design</td>\n",
       "      <td>3.1</td>\n",
       "    </tr>\n",
       "    <tr>\n",
       "      <th>17</th>\n",
       "      <td>350 Diy Room Decor Ideas</td>\n",
       "      <td>17M</td>\n",
       "      <td>Art &amp; Design</td>\n",
       "      <td>1.0</td>\n",
       "    </tr>\n",
       "    <tr>\n",
       "      <th>18</th>\n",
       "      <td>FlipaClip - Cartoon animation</td>\n",
       "      <td>39M</td>\n",
       "      <td>Art &amp; Design</td>\n",
       "      <td>2.2.5</td>\n",
       "    </tr>\n",
       "  </tbody>\n",
       "</table>\n",
       "</div>"
      ],
      "text/plain": [
       "                                                  App  Size  \\\n",
       "0      Photo Editor & Candy Camera & Grid & ScrapBook   19M   \n",
       "1                                 Coloring book moana   14M   \n",
       "2   U Launcher Lite – FREE Live Cool Themes, Hide ...  8.7M   \n",
       "5                          Paper flowers instructions  5.6M   \n",
       "6             Smoke Effect Photo Maker - Smoke Editor   19M   \n",
       "7                                    Infinite Painter   29M   \n",
       "15                    Learn To Draw Kawaii Characters  2.7M   \n",
       "16       Photo Designer - Write your name with shapes  5.5M   \n",
       "17                           350 Diy Room Decor Ideas   17M   \n",
       "18                      FlipaClip - Cartoon animation   39M   \n",
       "\n",
       "                       Genres Current Ver  \n",
       "0                Art & Design       1.0.0  \n",
       "1   Art & Design;Pretend Play       2.0.0  \n",
       "2                Art & Design       1.2.4  \n",
       "5                Art & Design         1.0  \n",
       "6                Art & Design         1.1  \n",
       "7                Art & Design    6.1.61.1  \n",
       "15               Art & Design         NaN  \n",
       "16               Art & Design         3.1  \n",
       "17               Art & Design         1.0  \n",
       "18               Art & Design       2.2.5  "
      ]
     },
     "execution_count": 13,
     "metadata": {},
     "output_type": "execute_result"
    }
   ],
   "source": [
    "result"
   ]
  },
  {
   "cell_type": "code",
   "execution_count": 14,
   "id": "e7267563",
   "metadata": {},
   "outputs": [],
   "source": [
    "# сохраним результат\n",
    "\n",
    "result.to_csv(\"5_result.csv\")"
   ]
  },
  {
   "cell_type": "markdown",
   "id": "fad398a3-1d4a-460c-aef5-e2e00fcb7f8b",
   "metadata": {},
   "source": [
    "## Задание 6\n",
    "Для того чтобы убрать дубликаты из нашего датафрейма, воспользуемся методом .drop_duplicates(), также добавим туда параметр subset, который нам поможет выбрать колонку по которой удаляем дубликаты.\n",
    "Для того чтобы сбросить индекс, нам нужно воспользоваться методом .reset_index() и добавить параметр drop=True, это позволит нам избежать добавление старых индексов как колонок датафрейма."
   ]
  },
  {
   "cell_type": "code",
   "execution_count": 15,
   "id": "75e00179-f238-45fe-81d2-483e627cffa6",
   "metadata": {},
   "outputs": [],
   "source": [
    "unique_playstore = playstore.drop_duplicates(subset=['App']).reset_index(drop=True)"
   ]
  },
  {
   "cell_type": "markdown",
   "id": "b010e62b-7b6f-45d3-a722-b832ca2008b4",
   "metadata": {
    "tags": []
   },
   "source": [
    "## Задание 7\n",
    "Для приведения колонок к стандартному виду, где все буквы должны быть нижнего регистра, а пробелы должны быть заменены на нижние подчеркивания, воспользуемся перечисленными в задании методами. Сначала нам нужно получить список колонок, для этого нам пригодится атрибут .columns.\n",
    "Для преобразования названий колонок, воспользуемся методом .replace() и заменим пробелы на нижнее подчеркивание, \n",
    "Для приведения к нижнему регистру воспользуемся методом .lower()."
   ]
  },
  {
   "cell_type": "code",
   "execution_count": 16,
   "id": "3ac9164b-7c01-44bb-afa5-8c81cbe4f2fe",
   "metadata": {},
   "outputs": [],
   "source": [
    "playstore.columns = playstore.columns.str.replace(' ', '_').str.lower()"
   ]
  },
  {
   "cell_type": "markdown",
   "id": "c9ce3295-5eac-4ca6-8401-4d2ebe332b32",
   "metadata": {},
   "source": [
    "## Задание 8\n",
    "Для начала в этом задании стоит убрать дубликаты аналогично тому, как они были убраны в задании ранее.\n",
    "Далее посмотрим на долю платных и бесплатных приложений, используя метод value_counts(), добавив параметр normalize=True.\n",
    "Чтобы округлить полученные значения до сотых, воспользуемся методом round(), указав 2 в качестве аргумента. Ответ — 0.92."
   ]
  },
  {
   "cell_type": "code",
   "execution_count": 17,
   "id": "81fc3dec-c38e-4851-bc0d-09ac1071a7be",
   "metadata": {},
   "outputs": [],
   "source": [
    "playstore = playstore.drop_duplicates(subset=['app']).reset_index(drop=True) # убираем дубликаты "
   ]
  },
  {
   "cell_type": "code",
   "execution_count": 18,
   "id": "88376bfa-ebb9-417d-a3b5-e94eeed3a5ec",
   "metadata": {},
   "outputs": [
    {
     "data": {
      "text/plain": [
       "type\n",
       "Free    0.92\n",
       "Paid    0.08\n",
       "Name: proportion, dtype: float64"
      ]
     },
     "execution_count": 18,
     "metadata": {},
     "output_type": "execute_result"
    }
   ],
   "source": [
    "playstore.type.value_counts(normalize=True).round(2)"
   ]
  },
  {
   "cell_type": "markdown",
   "id": "d87bedd3-d2e8-4b83-bfa1-343995cf3f09",
   "metadata": {},
   "source": [
    "## Задание 9\n",
    "В этом задании нужно отобрать из датафрейма только те приложения, которые относятся к образовательной категории  (EDUCATION) и с количеством отзывов пользователей более 1000.\n",
    "Это можно решить следующим образом. Полученный результат сохраняем в переменную education_playstore. Никаких специфичных методов и атрибутов не используем."
   ]
  },
  {
   "cell_type": "code",
   "execution_count": 19,
   "id": "0c2a773c-c49c-446f-b2eb-8fa5a25bae5a",
   "metadata": {},
   "outputs": [],
   "source": [
    "education_playstore = playstore[(playstore.category == 'EDUCATION')  & (playstore.reviews > 1000)].reset_index(drop=True)"
   ]
  },
  {
   "cell_type": "markdown",
   "id": "7d12f5e9-1350-409e-8e80-7c4ef486d379",
   "metadata": {},
   "source": [
    "## Задание 10\n",
    "Чтобы убрать лишние символы из колонки с price, применим методы apply() и replace(), а также lambda-функцию. Для перевода во float используем astype()."
   ]
  },
  {
   "cell_type": "code",
   "execution_count": 20,
   "id": "fc8f1845-ef74-45d0-825e-f558014b709a",
   "metadata": {},
   "outputs": [],
   "source": [
    "playstore[\"price\"] = playstore.price.apply(lambda x:x.replace('$','')).astype(\"float\")"
   ]
  },
  {
   "cell_type": "markdown",
   "id": "7025d242-cdee-4b6e-b333-947b3ed8c7f0",
   "metadata": {},
   "source": [
    "## Задание 11\n",
    "В качестве последнего задания необходимо собрать сводную таблицу по данным."
   ]
  },
  {
   "cell_type": "code",
   "execution_count": 22,
   "id": "88d7765e-c979-408e-b5a8-b67892da2223",
   "metadata": {},
   "outputs": [
    {
     "name": "stderr",
     "output_type": "stream",
     "text": [
      "/var/folders/nr/fq1fkj0n4h57qggfzbv55f2r0000gn/T/ipykernel_55579/3650181787.py:3: FutureWarning: The provided callable <function mean at 0x108b16020> is currently using SeriesGroupBy.mean. In a future version of pandas, the provided callable will be used directly. To keep current behavior pass the string \"mean\" instead.\n",
      "  result = pd.pivot_table(playstore, values=['reviews', 'rating', 'price'], index=['category', 'type'],\n",
      "/var/folders/nr/fq1fkj0n4h57qggfzbv55f2r0000gn/T/ipykernel_55579/3650181787.py:3: FutureWarning: The provided callable <function mean at 0x108b16020> is currently using SeriesGroupBy.mean. In a future version of pandas, the provided callable will be used directly. To keep current behavior pass the string \"mean\" instead.\n",
      "  result = pd.pivot_table(playstore, values=['reviews', 'rating', 'price'], index=['category', 'type'],\n"
     ]
    }
   ],
   "source": [
    "# первым действием собираем таблицу, затем переименовываем колонки\n",
    "\n",
    "result = pd.pivot_table(playstore, values=['reviews', 'rating', 'price'], index=['category', 'type'],\n",
    "                    aggfunc={'rating': np.mean,\n",
    "                            'reviews': np.mean,\n",
    "                            'price': np.mean}).\\\n",
    "                    rename(columns={'reviews': 'mean_reviews',\n",
    "                                    'rating': 'mean_rating',\n",
    "                                    'price': 'mean_price'})"
   ]
  },
  {
   "cell_type": "code",
   "execution_count": 23,
   "id": "83c5cf55",
   "metadata": {},
   "outputs": [],
   "source": [
    "# округляем колонки \"mean_price\", \"mean_reviews\" до двух знаков\n",
    "\n",
    "result[[\"mean_price\", \"mean_reviews\"]] = result[[\"mean_price\", \"mean_reviews\"]].round(2) "
   ]
  },
  {
   "cell_type": "code",
   "execution_count": 24,
   "id": "87fd6d3d",
   "metadata": {},
   "outputs": [],
   "source": [
    "# округляем колонку \"mean_rating\" до одного знака\n",
    "\n",
    "result[\"mean_rating\"] = result[\"mean_rating\"].round(1)"
   ]
  },
  {
   "cell_type": "code",
   "execution_count": 24,
   "id": "5db192d5",
   "metadata": {},
   "outputs": [
    {
     "data": {
      "text/html": [
       "<div>\n",
       "<style scoped>\n",
       "    .dataframe tbody tr th:only-of-type {\n",
       "        vertical-align: middle;\n",
       "    }\n",
       "\n",
       "    .dataframe tbody tr th {\n",
       "        vertical-align: top;\n",
       "    }\n",
       "\n",
       "    .dataframe thead th {\n",
       "        text-align: right;\n",
       "    }\n",
       "</style>\n",
       "<table border=\"1\" class=\"dataframe\">\n",
       "  <thead>\n",
       "    <tr style=\"text-align: right;\">\n",
       "      <th></th>\n",
       "      <th></th>\n",
       "      <th>mean_price</th>\n",
       "      <th>mean_rating</th>\n",
       "      <th>mean_reviews</th>\n",
       "    </tr>\n",
       "    <tr>\n",
       "      <th>category</th>\n",
       "      <th>type</th>\n",
       "      <th></th>\n",
       "      <th></th>\n",
       "      <th></th>\n",
       "    </tr>\n",
       "  </thead>\n",
       "  <tbody>\n",
       "    <tr>\n",
       "      <th rowspan=\"2\" valign=\"top\">ART_AND_DESIGN</th>\n",
       "      <th>Free</th>\n",
       "      <td>0.00</td>\n",
       "      <td>4.3</td>\n",
       "      <td>23230.11</td>\n",
       "    </tr>\n",
       "    <tr>\n",
       "      <th>Paid</th>\n",
       "      <td>1.99</td>\n",
       "      <td>4.7</td>\n",
       "      <td>722.00</td>\n",
       "    </tr>\n",
       "    <tr>\n",
       "      <th rowspan=\"2\" valign=\"top\">AUTO_AND_VEHICLES</th>\n",
       "      <th>Free</th>\n",
       "      <td>0.00</td>\n",
       "      <td>4.2</td>\n",
       "      <td>14140.28</td>\n",
       "    </tr>\n",
       "    <tr>\n",
       "      <th>Paid</th>\n",
       "      <td>4.49</td>\n",
       "      <td>4.6</td>\n",
       "      <td>1387.67</td>\n",
       "    </tr>\n",
       "    <tr>\n",
       "      <th>BEAUTY</th>\n",
       "      <th>Free</th>\n",
       "      <td>0.00</td>\n",
       "      <td>4.3</td>\n",
       "      <td>7476.23</td>\n",
       "    </tr>\n",
       "    <tr>\n",
       "      <th>...</th>\n",
       "      <th>...</th>\n",
       "      <td>...</td>\n",
       "      <td>...</td>\n",
       "      <td>...</td>\n",
       "    </tr>\n",
       "    <tr>\n",
       "      <th>TRAVEL_AND_LOCAL</th>\n",
       "      <th>Paid</th>\n",
       "      <td>4.16</td>\n",
       "      <td>4.1</td>\n",
       "      <td>1506.08</td>\n",
       "    </tr>\n",
       "    <tr>\n",
       "      <th rowspan=\"2\" valign=\"top\">VIDEO_PLAYERS</th>\n",
       "      <th>Free</th>\n",
       "      <td>0.00</td>\n",
       "      <td>4.0</td>\n",
       "      <td>424347.18</td>\n",
       "    </tr>\n",
       "    <tr>\n",
       "      <th>Paid</th>\n",
       "      <td>2.62</td>\n",
       "      <td>4.1</td>\n",
       "      <td>3341.75</td>\n",
       "    </tr>\n",
       "    <tr>\n",
       "      <th rowspan=\"2\" valign=\"top\">WEATHER</th>\n",
       "      <th>Free</th>\n",
       "      <td>0.00</td>\n",
       "      <td>4.2</td>\n",
       "      <td>171249.62</td>\n",
       "    </tr>\n",
       "    <tr>\n",
       "      <th>Paid</th>\n",
       "      <td>4.05</td>\n",
       "      <td>4.4</td>\n",
       "      <td>17055.12</td>\n",
       "    </tr>\n",
       "  </tbody>\n",
       "</table>\n",
       "<p>63 rows × 3 columns</p>\n",
       "</div>"
      ],
      "text/plain": [
       "                        mean_price  mean_rating  mean_reviews\n",
       "category          type                                       \n",
       "ART_AND_DESIGN    Free        0.00          4.3      23230.11\n",
       "                  Paid        1.99          4.7        722.00\n",
       "AUTO_AND_VEHICLES Free        0.00          4.2      14140.28\n",
       "                  Paid        4.49          4.6       1387.67\n",
       "BEAUTY            Free        0.00          4.3       7476.23\n",
       "...                            ...          ...           ...\n",
       "TRAVEL_AND_LOCAL  Paid        4.16          4.1       1506.08\n",
       "VIDEO_PLAYERS     Free        0.00          4.0     424347.18\n",
       "                  Paid        2.62          4.1       3341.75\n",
       "WEATHER           Free        0.00          4.2     171249.62\n",
       "                  Paid        4.05          4.4      17055.12\n",
       "\n",
       "[63 rows x 3 columns]"
      ]
     },
     "execution_count": 24,
     "metadata": {},
     "output_type": "execute_result"
    }
   ],
   "source": [
    "result"
   ]
  },
  {
   "cell_type": "code",
   "execution_count": null,
   "id": "d42616ad",
   "metadata": {},
   "outputs": [],
   "source": [
    "result.to_csv(\"5-project-fin.csv\")"
   ]
  },
  {
   "cell_type": "code",
   "execution_count": null,
   "id": "b5bf7c81",
   "metadata": {},
   "outputs": [],
   "source": [
    "import pandas as pd\n",
    "import numpy as np\n",
    "playstore = pd.read_csv(\"../data/5-playstore.csv\", index_col=0)\n",
    "\n",
    "playstore.App.nunique()\n",
    "unique_playstore = playstore.drop_duplicates(subset=['App']).reset_index(drop=True)\n",
    "playstore.columns = playstore.columns.str.replace(' ', '_').str.lower()\n",
    "\n",
    "playstore = playstore.drop_duplicates(subset=['app']).reset_index(drop=True) # убираем дубликаты \n",
    "\n",
    "playstore[\"price\"] = playstore.price.apply(lambda x:x.replace('$','')).astype(\"float\")\n",
    "\n",
    "\n",
    "\n",
    "result = pd.pivot_table(playstore, values=['reviews', 'rating', 'price'], index=['category', 'type'],\n",
    "                    aggfunc={'rating': np.mean,\n",
    "                            'reviews': np.mean,\n",
    "                            'price': np.mean}).\\\n",
    "                    rename(columns={'reviews': 'mean_reviews',\n",
    "                                    'rating': 'mean_rating',\n",
    "                                    'price': 'mean_price'})\n",
    "\n",
    "result[[\"mean_price\", \"mean_reviews\"]] = result[[\"mean_price\", \"mean_reviews\"]].round(2) \n",
    "\n",
    "result[\"mean_rating\"] = result[\"mean_rating\"].round(1)\n",
    "\n",
    "result.to_csv(\"5-project-fin.csv\")"
   ]
  }
 ],
 "metadata": {
  "kernelspec": {
   "display_name": "venv",
   "language": "python",
   "name": "python3"
  },
  "language_info": {
   "codemirror_mode": {
    "name": "ipython",
    "version": 3
   },
   "file_extension": ".py",
   "mimetype": "text/x-python",
   "name": "python",
   "nbconvert_exporter": "python",
   "pygments_lexer": "ipython3",
   "version": "3.13.7"
  }
 },
 "nbformat": 4,
 "nbformat_minor": 5
}

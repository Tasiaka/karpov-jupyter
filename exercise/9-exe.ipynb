{
 "cells": [
  {
   "cell_type": "markdown",
   "id": "4e9f8b83",
   "metadata": {},
   "source": [
    "Настройте username и email для git. Если вы работаете из консоли, то это можно сделать командами\n",
    " \n",
    "```bash\n",
    "git config --global user.name \"Name Surname\"\n",
    "git config --global user.email \"my_email@domain.ru\"\n",
    "```\n",
    "\n",
    "Для git не из консоли инструкции будут зависеть от конкретной программы. Советуем почитать в документации.\n",
    "\n",
    "> Клонируем репо\n",
    "Репозиторий: https://git.lab.karpov.courses/startml/git_hw_templates/task_1.git\n",
    "\n",
    "Сделайте форк репозитория https://git.lab.karpov.courses/startml/git_hw_templates/task_1.git в соответствии с инструкцией на LMS. У вас появится своя личная копия этого репозитория в gitlab, с ней и работаем.\n",
    "\n",
    "Склонируйте свой форк на свой компьютер. Обратите внимание, ссылка на форк не равна https://git.lab.karpov.courses/startml/git_hw_templates/task_1.git! Она будет иметь вид, похожий на\n",
    "\n",
    "https://git.lab.karpov.courses/ВАШ_ПОЛЬЗОВАТЕЛЬ/task_1.git\n",
    "\n",
    "Как только вы склонировали форк (!), зайдите консолью внутрь полученной папки и выполните там команду git remote -v. Напишите в ответ вывод этой команды."
   ]
  },
  {
   "cell_type": "code",
   "execution_count": 1,
   "id": "c5744a7a",
   "metadata": {
    "vscode": {
     "languageId": "powershell"
    }
   },
   "outputs": [
    {
     "ename": "SyntaxError",
     "evalue": "invalid syntax (1467942831.py, line 1)",
     "output_type": "error",
     "traceback": [
      "  \u001b[36mCell\u001b[39m\u001b[36m \u001b[39m\u001b[32mIn[1]\u001b[39m\u001b[32m, line 1\u001b[39m\n\u001b[31m    \u001b[39m\u001b[31morigin  git@git.lab.karpov.courses:anastasija-volkovskaja-pew5486/task_1.git (fetch)\u001b[39m\n            ^\n\u001b[31mSyntaxError\u001b[39m\u001b[31m:\u001b[39m invalid syntax\n"
     ]
    }
   ],
   "source": [
    "origin  git@git.lab.karpov.courses:anastasija-volkovskaja-pew5486/task_1.git (fetch)\n",
    "origin  git@git.lab.karpov.courses:anastasija-volkovskaja-pew5486/task_1.git (push)"
   ]
  },
  {
   "cell_type": "markdown",
   "id": "cf5b95a0",
   "metadata": {},
   "source": []
  }
 ],
 "metadata": {
  "kernelspec": {
   "display_name": "venv",
   "language": "python",
   "name": "python3"
  },
  "language_info": {
   "codemirror_mode": {
    "name": "ipython",
    "version": 3
   },
   "file_extension": ".py",
   "mimetype": "text/x-python",
   "name": "python",
   "nbconvert_exporter": "python",
   "pygments_lexer": "ipython3",
   "version": "3.13.7"
  }
 },
 "nbformat": 4,
 "nbformat_minor": 5
}
